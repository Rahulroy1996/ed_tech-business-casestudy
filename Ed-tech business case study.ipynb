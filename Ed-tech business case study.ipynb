{
 "cells": [
  {
   "cell_type": "code",
   "execution_count": 3,
   "id": "76014bcd",
   "metadata": {},
   "outputs": [],
   "source": [
    "# importing necessary libraries\n",
    "\n",
    "import pandas as pd\n",
    "import numpy as np\n",
    "import matplotlib.pyplot as plt\n",
    "import seaborn as sns"
   ]
  },
  {
   "cell_type": "code",
   "execution_count": 4,
   "id": "5433a060",
   "metadata": {},
   "outputs": [],
   "source": [
    "# Read the dataset\n",
    "\n",
    "df = pd.read_csv(r\"C:\\Users\\hp\\OneDrive\\Desktop\\online_All_Business_p1_p626.csv\")"
   ]
  },
  {
   "cell_type": "code",
   "execution_count": 5,
   "id": "185180ec",
   "metadata": {},
   "outputs": [
    {
     "data": {
      "text/html": [
       "<div>\n",
       "<style scoped>\n",
       "    .dataframe tbody tr th:only-of-type {\n",
       "        vertical-align: middle;\n",
       "    }\n",
       "\n",
       "    .dataframe tbody tr th {\n",
       "        vertical-align: top;\n",
       "    }\n",
       "\n",
       "    .dataframe thead th {\n",
       "        text-align: right;\n",
       "    }\n",
       "</style>\n",
       "<table border=\"1\" class=\"dataframe\">\n",
       "  <thead>\n",
       "    <tr style=\"text-align: right;\">\n",
       "      <th></th>\n",
       "      <th>id</th>\n",
       "      <th>title</th>\n",
       "      <th>url</th>\n",
       "      <th>is_paid</th>\n",
       "      <th>num_subscribers</th>\n",
       "      <th>avg_rating</th>\n",
       "      <th>avg_rating_recent</th>\n",
       "      <th>rating</th>\n",
       "      <th>num_reviews</th>\n",
       "      <th>is_wishlisted</th>\n",
       "      <th>num_published_lectures</th>\n",
       "      <th>num_published_practice_tests</th>\n",
       "      <th>created</th>\n",
       "      <th>published_time</th>\n",
       "      <th>discount_price__amount</th>\n",
       "      <th>discount_price__currency</th>\n",
       "      <th>discount_price__price_string</th>\n",
       "      <th>price_detail__amount</th>\n",
       "      <th>price_detail__currency</th>\n",
       "      <th>price_detail__price_string</th>\n",
       "    </tr>\n",
       "  </thead>\n",
       "  <tbody>\n",
       "    <tr>\n",
       "      <th>0</th>\n",
       "      <td>762616</td>\n",
       "      <td>The Complete SQL Bootcamp 2020: Go from Zero t...</td>\n",
       "      <td>/course/the-complete-sql-bootcamp/</td>\n",
       "      <td>True</td>\n",
       "      <td>295509</td>\n",
       "      <td>4.66019</td>\n",
       "      <td>4.67874</td>\n",
       "      <td>4.67874</td>\n",
       "      <td>78006</td>\n",
       "      <td>False</td>\n",
       "      <td>84</td>\n",
       "      <td>0</td>\n",
       "      <td>2016-02-14T22:57:48Z</td>\n",
       "      <td>2016-04-06T05:16:11Z</td>\n",
       "      <td>455.0</td>\n",
       "      <td>INR</td>\n",
       "      <td>₹455</td>\n",
       "      <td>8640</td>\n",
       "      <td>INR</td>\n",
       "      <td>₹8,640</td>\n",
       "    </tr>\n",
       "    <tr>\n",
       "      <th>1</th>\n",
       "      <td>937678</td>\n",
       "      <td>Tableau 2020 A-Z: Hands-On Tableau Training fo...</td>\n",
       "      <td>/course/tableau10/</td>\n",
       "      <td>True</td>\n",
       "      <td>209070</td>\n",
       "      <td>4.58956</td>\n",
       "      <td>4.60015</td>\n",
       "      <td>4.60015</td>\n",
       "      <td>54581</td>\n",
       "      <td>False</td>\n",
       "      <td>78</td>\n",
       "      <td>0</td>\n",
       "      <td>2016-08-22T12:10:18Z</td>\n",
       "      <td>2016-08-23T16:59:49Z</td>\n",
       "      <td>455.0</td>\n",
       "      <td>INR</td>\n",
       "      <td>₹455</td>\n",
       "      <td>8640</td>\n",
       "      <td>INR</td>\n",
       "      <td>₹8,640</td>\n",
       "    </tr>\n",
       "    <tr>\n",
       "      <th>2</th>\n",
       "      <td>1361790</td>\n",
       "      <td>PMP Exam Prep Seminar -  PMBOK Guide 6</td>\n",
       "      <td>/course/pmp-pmbok6-35-pdus/</td>\n",
       "      <td>True</td>\n",
       "      <td>155282</td>\n",
       "      <td>4.59491</td>\n",
       "      <td>4.59326</td>\n",
       "      <td>4.59326</td>\n",
       "      <td>52653</td>\n",
       "      <td>False</td>\n",
       "      <td>292</td>\n",
       "      <td>2</td>\n",
       "      <td>2017-09-26T16:32:48Z</td>\n",
       "      <td>2017-11-14T23:58:14Z</td>\n",
       "      <td>455.0</td>\n",
       "      <td>INR</td>\n",
       "      <td>₹455</td>\n",
       "      <td>8640</td>\n",
       "      <td>INR</td>\n",
       "      <td>₹8,640</td>\n",
       "    </tr>\n",
       "    <tr>\n",
       "      <th>3</th>\n",
       "      <td>648826</td>\n",
       "      <td>The Complete Financial Analyst Course 2020</td>\n",
       "      <td>/course/the-complete-financial-analyst-course/</td>\n",
       "      <td>True</td>\n",
       "      <td>245860</td>\n",
       "      <td>4.54407</td>\n",
       "      <td>4.53772</td>\n",
       "      <td>4.53772</td>\n",
       "      <td>46447</td>\n",
       "      <td>False</td>\n",
       "      <td>338</td>\n",
       "      <td>0</td>\n",
       "      <td>2015-10-23T13:34:35Z</td>\n",
       "      <td>2016-01-21T01:38:48Z</td>\n",
       "      <td>455.0</td>\n",
       "      <td>INR</td>\n",
       "      <td>₹455</td>\n",
       "      <td>8640</td>\n",
       "      <td>INR</td>\n",
       "      <td>₹8,640</td>\n",
       "    </tr>\n",
       "    <tr>\n",
       "      <th>4</th>\n",
       "      <td>637930</td>\n",
       "      <td>An Entire MBA in 1 Course:Award Winning Busine...</td>\n",
       "      <td>/course/an-entire-mba-in-1-courseaward-winning...</td>\n",
       "      <td>True</td>\n",
       "      <td>374836</td>\n",
       "      <td>4.47080</td>\n",
       "      <td>4.47173</td>\n",
       "      <td>4.47173</td>\n",
       "      <td>41630</td>\n",
       "      <td>False</td>\n",
       "      <td>83</td>\n",
       "      <td>0</td>\n",
       "      <td>2015-10-12T06:39:46Z</td>\n",
       "      <td>2016-01-11T21:39:33Z</td>\n",
       "      <td>455.0</td>\n",
       "      <td>INR</td>\n",
       "      <td>₹455</td>\n",
       "      <td>8640</td>\n",
       "      <td>INR</td>\n",
       "      <td>₹8,640</td>\n",
       "    </tr>\n",
       "  </tbody>\n",
       "</table>\n",
       "</div>"
      ],
      "text/plain": [
       "        id                                              title  \\\n",
       "0   762616  The Complete SQL Bootcamp 2020: Go from Zero t...   \n",
       "1   937678  Tableau 2020 A-Z: Hands-On Tableau Training fo...   \n",
       "2  1361790             PMP Exam Prep Seminar -  PMBOK Guide 6   \n",
       "3   648826         The Complete Financial Analyst Course 2020   \n",
       "4   637930  An Entire MBA in 1 Course:Award Winning Busine...   \n",
       "\n",
       "                                                 url  is_paid  \\\n",
       "0                 /course/the-complete-sql-bootcamp/     True   \n",
       "1                                 /course/tableau10/     True   \n",
       "2                        /course/pmp-pmbok6-35-pdus/     True   \n",
       "3     /course/the-complete-financial-analyst-course/     True   \n",
       "4  /course/an-entire-mba-in-1-courseaward-winning...     True   \n",
       "\n",
       "   num_subscribers  avg_rating  avg_rating_recent   rating  num_reviews  \\\n",
       "0           295509     4.66019            4.67874  4.67874        78006   \n",
       "1           209070     4.58956            4.60015  4.60015        54581   \n",
       "2           155282     4.59491            4.59326  4.59326        52653   \n",
       "3           245860     4.54407            4.53772  4.53772        46447   \n",
       "4           374836     4.47080            4.47173  4.47173        41630   \n",
       "\n",
       "   is_wishlisted  num_published_lectures  num_published_practice_tests  \\\n",
       "0          False                      84                             0   \n",
       "1          False                      78                             0   \n",
       "2          False                     292                             2   \n",
       "3          False                     338                             0   \n",
       "4          False                      83                             0   \n",
       "\n",
       "                created        published_time  discount_price__amount  \\\n",
       "0  2016-02-14T22:57:48Z  2016-04-06T05:16:11Z                   455.0   \n",
       "1  2016-08-22T12:10:18Z  2016-08-23T16:59:49Z                   455.0   \n",
       "2  2017-09-26T16:32:48Z  2017-11-14T23:58:14Z                   455.0   \n",
       "3  2015-10-23T13:34:35Z  2016-01-21T01:38:48Z                   455.0   \n",
       "4  2015-10-12T06:39:46Z  2016-01-11T21:39:33Z                   455.0   \n",
       "\n",
       "  discount_price__currency discount_price__price_string  price_detail__amount  \\\n",
       "0                      INR                         ₹455                  8640   \n",
       "1                      INR                         ₹455                  8640   \n",
       "2                      INR                         ₹455                  8640   \n",
       "3                      INR                         ₹455                  8640   \n",
       "4                      INR                         ₹455                  8640   \n",
       "\n",
       "  price_detail__currency price_detail__price_string  \n",
       "0                    INR                     ₹8,640  \n",
       "1                    INR                     ₹8,640  \n",
       "2                    INR                     ₹8,640  \n",
       "3                    INR                     ₹8,640  \n",
       "4                    INR                     ₹8,640  "
      ]
     },
     "execution_count": 5,
     "metadata": {},
     "output_type": "execute_result"
    }
   ],
   "source": [
    "# top records of the dataset\n",
    "\n",
    "df.head()"
   ]
  },
  {
   "cell_type": "code",
   "execution_count": 6,
   "id": "03aac8f3",
   "metadata": {},
   "outputs": [
    {
     "data": {
      "text/plain": [
       "Index(['id', 'title', 'url', 'is_paid', 'num_subscribers', 'avg_rating',\n",
       "       'avg_rating_recent', 'rating', 'num_reviews', 'is_wishlisted',\n",
       "       'num_published_lectures', 'num_published_practice_tests', 'created',\n",
       "       'published_time', 'discount_price__amount', 'discount_price__currency',\n",
       "       'discount_price__price_string', 'price_detail__amount',\n",
       "       'price_detail__currency', 'price_detail__price_string'],\n",
       "      dtype='object')"
      ]
     },
     "execution_count": 6,
     "metadata": {},
     "output_type": "execute_result"
    }
   ],
   "source": [
    "# checking for number of columns\n",
    "df.columns"
   ]
  },
  {
   "cell_type": "code",
   "execution_count": 7,
   "id": "2eadcc64",
   "metadata": {},
   "outputs": [
    {
     "data": {
      "text/html": [
       "<div>\n",
       "<style scoped>\n",
       "    .dataframe tbody tr th:only-of-type {\n",
       "        vertical-align: middle;\n",
       "    }\n",
       "\n",
       "    .dataframe tbody tr th {\n",
       "        vertical-align: top;\n",
       "    }\n",
       "\n",
       "    .dataframe thead th {\n",
       "        text-align: right;\n",
       "    }\n",
       "</style>\n",
       "<table border=\"1\" class=\"dataframe\">\n",
       "  <thead>\n",
       "    <tr style=\"text-align: right;\">\n",
       "      <th></th>\n",
       "      <th>id</th>\n",
       "      <th>title</th>\n",
       "      <th>url</th>\n",
       "      <th>is_paid</th>\n",
       "      <th>num_subscribers</th>\n",
       "      <th>avg_rating</th>\n",
       "      <th>avg_rating_recent</th>\n",
       "      <th>rating</th>\n",
       "      <th>num_reviews</th>\n",
       "      <th>is_wishlisted</th>\n",
       "      <th>num_published_lectures</th>\n",
       "      <th>num_published_practice_tests</th>\n",
       "      <th>created</th>\n",
       "      <th>published_time</th>\n",
       "      <th>discount_price__amount</th>\n",
       "      <th>discount_price__currency</th>\n",
       "      <th>discount_price__price_string</th>\n",
       "      <th>price_detail__amount</th>\n",
       "      <th>price_detail__currency</th>\n",
       "      <th>price_detail__price_string</th>\n",
       "    </tr>\n",
       "  </thead>\n",
       "  <tbody>\n",
       "    <tr>\n",
       "      <th>count</th>\n",
       "      <td>9.447000e+03</td>\n",
       "      <td>9447</td>\n",
       "      <td>9447</td>\n",
       "      <td>9447</td>\n",
       "      <td>9447.000000</td>\n",
       "      <td>9447.000000</td>\n",
       "      <td>9447.000000</td>\n",
       "      <td>9447.000000</td>\n",
       "      <td>9447.000000</td>\n",
       "      <td>9447</td>\n",
       "      <td>9447.000000</td>\n",
       "      <td>9447.000000</td>\n",
       "      <td>9447</td>\n",
       "      <td>9447</td>\n",
       "      <td>8937.000000</td>\n",
       "      <td>8937</td>\n",
       "      <td>8937</td>\n",
       "      <td>9447.000000</td>\n",
       "      <td>9447</td>\n",
       "      <td>9447</td>\n",
       "    </tr>\n",
       "    <tr>\n",
       "      <th>unique</th>\n",
       "      <td>NaN</td>\n",
       "      <td>9424</td>\n",
       "      <td>9447</td>\n",
       "      <td>1</td>\n",
       "      <td>NaN</td>\n",
       "      <td>NaN</td>\n",
       "      <td>NaN</td>\n",
       "      <td>NaN</td>\n",
       "      <td>NaN</td>\n",
       "      <td>1</td>\n",
       "      <td>NaN</td>\n",
       "      <td>NaN</td>\n",
       "      <td>9446</td>\n",
       "      <td>9446</td>\n",
       "      <td>NaN</td>\n",
       "      <td>1</td>\n",
       "      <td>48</td>\n",
       "      <td>NaN</td>\n",
       "      <td>1</td>\n",
       "      <td>36</td>\n",
       "    </tr>\n",
       "    <tr>\n",
       "      <th>top</th>\n",
       "      <td>NaN</td>\n",
       "      <td>Fundamentals of Accounting &amp; Bookkeeping</td>\n",
       "      <td>/course/the-complete-sql-bootcamp/</td>\n",
       "      <td>True</td>\n",
       "      <td>NaN</td>\n",
       "      <td>NaN</td>\n",
       "      <td>NaN</td>\n",
       "      <td>NaN</td>\n",
       "      <td>NaN</td>\n",
       "      <td>False</td>\n",
       "      <td>NaN</td>\n",
       "      <td>NaN</td>\n",
       "      <td>2015-09-17T20:27:07Z</td>\n",
       "      <td>2019-08-13T23:28:20Z</td>\n",
       "      <td>NaN</td>\n",
       "      <td>INR</td>\n",
       "      <td>₹455</td>\n",
       "      <td>NaN</td>\n",
       "      <td>INR</td>\n",
       "      <td>₹8,640</td>\n",
       "    </tr>\n",
       "    <tr>\n",
       "      <th>freq</th>\n",
       "      <td>NaN</td>\n",
       "      <td>2</td>\n",
       "      <td>1</td>\n",
       "      <td>9447</td>\n",
       "      <td>NaN</td>\n",
       "      <td>NaN</td>\n",
       "      <td>NaN</td>\n",
       "      <td>NaN</td>\n",
       "      <td>NaN</td>\n",
       "      <td>9447</td>\n",
       "      <td>NaN</td>\n",
       "      <td>NaN</td>\n",
       "      <td>2</td>\n",
       "      <td>2</td>\n",
       "      <td>NaN</td>\n",
       "      <td>8937</td>\n",
       "      <td>8350</td>\n",
       "      <td>NaN</td>\n",
       "      <td>9447</td>\n",
       "      <td>2505</td>\n",
       "    </tr>\n",
       "    <tr>\n",
       "      <th>mean</th>\n",
       "      <td>1.456603e+06</td>\n",
       "      <td>NaN</td>\n",
       "      <td>NaN</td>\n",
       "      <td>NaN</td>\n",
       "      <td>3399.298190</td>\n",
       "      <td>4.138522</td>\n",
       "      <td>4.124756</td>\n",
       "      <td>4.124756</td>\n",
       "      <td>299.054515</td>\n",
       "      <td>NaN</td>\n",
       "      <td>34.400868</td>\n",
       "      <td>0.101831</td>\n",
       "      <td>NaN</td>\n",
       "      <td>NaN</td>\n",
       "      <td>488.984111</td>\n",
       "      <td>NaN</td>\n",
       "      <td>NaN</td>\n",
       "      <td>4828.758336</td>\n",
       "      <td>NaN</td>\n",
       "      <td>NaN</td>\n",
       "    </tr>\n",
       "    <tr>\n",
       "      <th>std</th>\n",
       "      <td>8.956601e+05</td>\n",
       "      <td>NaN</td>\n",
       "      <td>NaN</td>\n",
       "      <td>NaN</td>\n",
       "      <td>10451.534122</td>\n",
       "      <td>0.453581</td>\n",
       "      <td>0.478410</td>\n",
       "      <td>0.478410</td>\n",
       "      <td>1826.867472</td>\n",
       "      <td>NaN</td>\n",
       "      <td>46.061088</td>\n",
       "      <td>0.580037</td>\n",
       "      <td>NaN</td>\n",
       "      <td>NaN</td>\n",
       "      <td>247.833161</td>\n",
       "      <td>NaN</td>\n",
       "      <td>NaN</td>\n",
       "      <td>3108.307674</td>\n",
       "      <td>NaN</td>\n",
       "      <td>NaN</td>\n",
       "    </tr>\n",
       "    <tr>\n",
       "      <th>min</th>\n",
       "      <td>2.762000e+03</td>\n",
       "      <td>NaN</td>\n",
       "      <td>NaN</td>\n",
       "      <td>NaN</td>\n",
       "      <td>3.000000</td>\n",
       "      <td>1.000000</td>\n",
       "      <td>1.000000</td>\n",
       "      <td>1.000000</td>\n",
       "      <td>3.000000</td>\n",
       "      <td>NaN</td>\n",
       "      <td>0.000000</td>\n",
       "      <td>0.000000</td>\n",
       "      <td>NaN</td>\n",
       "      <td>NaN</td>\n",
       "      <td>455.000000</td>\n",
       "      <td>NaN</td>\n",
       "      <td>NaN</td>\n",
       "      <td>1280.000000</td>\n",
       "      <td>NaN</td>\n",
       "      <td>NaN</td>\n",
       "    </tr>\n",
       "    <tr>\n",
       "      <th>25%</th>\n",
       "      <td>6.730310e+05</td>\n",
       "      <td>NaN</td>\n",
       "      <td>NaN</td>\n",
       "      <td>NaN</td>\n",
       "      <td>141.000000</td>\n",
       "      <td>3.900000</td>\n",
       "      <td>3.879410</td>\n",
       "      <td>3.879410</td>\n",
       "      <td>12.000000</td>\n",
       "      <td>NaN</td>\n",
       "      <td>13.000000</td>\n",
       "      <td>0.000000</td>\n",
       "      <td>NaN</td>\n",
       "      <td>NaN</td>\n",
       "      <td>455.000000</td>\n",
       "      <td>NaN</td>\n",
       "      <td>NaN</td>\n",
       "      <td>1600.000000</td>\n",
       "      <td>NaN</td>\n",
       "      <td>NaN</td>\n",
       "    </tr>\n",
       "    <tr>\n",
       "      <th>50%</th>\n",
       "      <td>1.381806e+06</td>\n",
       "      <td>NaN</td>\n",
       "      <td>NaN</td>\n",
       "      <td>NaN</td>\n",
       "      <td>916.000000</td>\n",
       "      <td>4.200000</td>\n",
       "      <td>4.206080</td>\n",
       "      <td>4.206080</td>\n",
       "      <td>33.000000</td>\n",
       "      <td>NaN</td>\n",
       "      <td>23.000000</td>\n",
       "      <td>0.000000</td>\n",
       "      <td>NaN</td>\n",
       "      <td>NaN</td>\n",
       "      <td>455.000000</td>\n",
       "      <td>NaN</td>\n",
       "      <td>NaN</td>\n",
       "      <td>3840.000000</td>\n",
       "      <td>NaN</td>\n",
       "      <td>NaN</td>\n",
       "    </tr>\n",
       "    <tr>\n",
       "      <th>75%</th>\n",
       "      <td>2.154793e+06</td>\n",
       "      <td>NaN</td>\n",
       "      <td>NaN</td>\n",
       "      <td>NaN</td>\n",
       "      <td>2889.500000</td>\n",
       "      <td>4.450000</td>\n",
       "      <td>4.447495</td>\n",
       "      <td>4.447495</td>\n",
       "      <td>110.000000</td>\n",
       "      <td>NaN</td>\n",
       "      <td>39.000000</td>\n",
       "      <td>0.000000</td>\n",
       "      <td>NaN</td>\n",
       "      <td>NaN</td>\n",
       "      <td>455.000000</td>\n",
       "      <td>NaN</td>\n",
       "      <td>NaN</td>\n",
       "      <td>8640.000000</td>\n",
       "      <td>NaN</td>\n",
       "      <td>NaN</td>\n",
       "    </tr>\n",
       "    <tr>\n",
       "      <th>max</th>\n",
       "      <td>3.469452e+06</td>\n",
       "      <td>NaN</td>\n",
       "      <td>NaN</td>\n",
       "      <td>NaN</td>\n",
       "      <td>374836.000000</td>\n",
       "      <td>5.000000</td>\n",
       "      <td>5.000000</td>\n",
       "      <td>5.000000</td>\n",
       "      <td>78006.000000</td>\n",
       "      <td>NaN</td>\n",
       "      <td>699.000000</td>\n",
       "      <td>6.000000</td>\n",
       "      <td>NaN</td>\n",
       "      <td>NaN</td>\n",
       "      <td>3200.000000</td>\n",
       "      <td>NaN</td>\n",
       "      <td>NaN</td>\n",
       "      <td>12800.000000</td>\n",
       "      <td>NaN</td>\n",
       "      <td>NaN</td>\n",
       "    </tr>\n",
       "  </tbody>\n",
       "</table>\n",
       "</div>"
      ],
      "text/plain": [
       "                  id                                     title  \\\n",
       "count   9.447000e+03                                      9447   \n",
       "unique           NaN                                      9424   \n",
       "top              NaN  Fundamentals of Accounting & Bookkeeping   \n",
       "freq             NaN                                         2   \n",
       "mean    1.456603e+06                                       NaN   \n",
       "std     8.956601e+05                                       NaN   \n",
       "min     2.762000e+03                                       NaN   \n",
       "25%     6.730310e+05                                       NaN   \n",
       "50%     1.381806e+06                                       NaN   \n",
       "75%     2.154793e+06                                       NaN   \n",
       "max     3.469452e+06                                       NaN   \n",
       "\n",
       "                                       url is_paid  num_subscribers  \\\n",
       "count                                 9447    9447      9447.000000   \n",
       "unique                                9447       1              NaN   \n",
       "top     /course/the-complete-sql-bootcamp/    True              NaN   \n",
       "freq                                     1    9447              NaN   \n",
       "mean                                   NaN     NaN      3399.298190   \n",
       "std                                    NaN     NaN     10451.534122   \n",
       "min                                    NaN     NaN         3.000000   \n",
       "25%                                    NaN     NaN       141.000000   \n",
       "50%                                    NaN     NaN       916.000000   \n",
       "75%                                    NaN     NaN      2889.500000   \n",
       "max                                    NaN     NaN    374836.000000   \n",
       "\n",
       "         avg_rating  avg_rating_recent       rating   num_reviews  \\\n",
       "count   9447.000000        9447.000000  9447.000000   9447.000000   \n",
       "unique          NaN                NaN          NaN           NaN   \n",
       "top             NaN                NaN          NaN           NaN   \n",
       "freq            NaN                NaN          NaN           NaN   \n",
       "mean       4.138522           4.124756     4.124756    299.054515   \n",
       "std        0.453581           0.478410     0.478410   1826.867472   \n",
       "min        1.000000           1.000000     1.000000      3.000000   \n",
       "25%        3.900000           3.879410     3.879410     12.000000   \n",
       "50%        4.200000           4.206080     4.206080     33.000000   \n",
       "75%        4.450000           4.447495     4.447495    110.000000   \n",
       "max        5.000000           5.000000     5.000000  78006.000000   \n",
       "\n",
       "       is_wishlisted  num_published_lectures  num_published_practice_tests  \\\n",
       "count           9447             9447.000000                   9447.000000   \n",
       "unique             1                     NaN                           NaN   \n",
       "top            False                     NaN                           NaN   \n",
       "freq            9447                     NaN                           NaN   \n",
       "mean             NaN               34.400868                      0.101831   \n",
       "std              NaN               46.061088                      0.580037   \n",
       "min              NaN                0.000000                      0.000000   \n",
       "25%              NaN               13.000000                      0.000000   \n",
       "50%              NaN               23.000000                      0.000000   \n",
       "75%              NaN               39.000000                      0.000000   \n",
       "max              NaN              699.000000                      6.000000   \n",
       "\n",
       "                     created        published_time  discount_price__amount  \\\n",
       "count                   9447                  9447             8937.000000   \n",
       "unique                  9446                  9446                     NaN   \n",
       "top     2015-09-17T20:27:07Z  2019-08-13T23:28:20Z                     NaN   \n",
       "freq                       2                     2                     NaN   \n",
       "mean                     NaN                   NaN              488.984111   \n",
       "std                      NaN                   NaN              247.833161   \n",
       "min                      NaN                   NaN              455.000000   \n",
       "25%                      NaN                   NaN              455.000000   \n",
       "50%                      NaN                   NaN              455.000000   \n",
       "75%                      NaN                   NaN              455.000000   \n",
       "max                      NaN                   NaN             3200.000000   \n",
       "\n",
       "       discount_price__currency discount_price__price_string  \\\n",
       "count                      8937                         8937   \n",
       "unique                        1                           48   \n",
       "top                         INR                         ₹455   \n",
       "freq                       8937                         8350   \n",
       "mean                        NaN                          NaN   \n",
       "std                         NaN                          NaN   \n",
       "min                         NaN                          NaN   \n",
       "25%                         NaN                          NaN   \n",
       "50%                         NaN                          NaN   \n",
       "75%                         NaN                          NaN   \n",
       "max                         NaN                          NaN   \n",
       "\n",
       "        price_detail__amount price_detail__currency price_detail__price_string  \n",
       "count            9447.000000                   9447                       9447  \n",
       "unique                   NaN                      1                         36  \n",
       "top                      NaN                    INR                     ₹8,640  \n",
       "freq                     NaN                   9447                       2505  \n",
       "mean             4828.758336                    NaN                        NaN  \n",
       "std              3108.307674                    NaN                        NaN  \n",
       "min              1280.000000                    NaN                        NaN  \n",
       "25%              1600.000000                    NaN                        NaN  \n",
       "50%              3840.000000                    NaN                        NaN  \n",
       "75%              8640.000000                    NaN                        NaN  \n",
       "max             12800.000000                    NaN                        NaN  "
      ]
     },
     "execution_count": 7,
     "metadata": {},
     "output_type": "execute_result"
    }
   ],
   "source": [
    "# checking description of the dataset\n",
    "\n",
    "df.describe(include = 'all')"
   ]
  },
  {
   "cell_type": "markdown",
   "id": "387105be",
   "metadata": {},
   "source": [
    "# check null values"
   ]
  },
  {
   "cell_type": "code",
   "execution_count": 8,
   "id": "246881d6",
   "metadata": {},
   "outputs": [
    {
     "data": {
      "text/plain": [
       "id                                0\n",
       "title                             0\n",
       "url                               0\n",
       "is_paid                           0\n",
       "num_subscribers                   0\n",
       "avg_rating                        0\n",
       "avg_rating_recent                 0\n",
       "rating                            0\n",
       "num_reviews                       0\n",
       "is_wishlisted                     0\n",
       "num_published_lectures            0\n",
       "num_published_practice_tests      0\n",
       "created                           0\n",
       "published_time                    0\n",
       "discount_price__amount          510\n",
       "discount_price__currency        510\n",
       "discount_price__price_string    510\n",
       "price_detail__amount              0\n",
       "price_detail__currency            0\n",
       "price_detail__price_string        0\n",
       "dtype: int64"
      ]
     },
     "execution_count": 8,
     "metadata": {},
     "output_type": "execute_result"
    }
   ],
   "source": [
    "df.isnull().sum()"
   ]
  },
  {
   "cell_type": "markdown",
   "id": "2695c5a7",
   "metadata": {},
   "source": [
    "# dropping columns that i won't need in this project"
   ]
  },
  {
   "cell_type": "code",
   "execution_count": 9,
   "id": "e22b50ed",
   "metadata": {},
   "outputs": [],
   "source": [
    "df.drop(['url','discount_price__currency','discount_price__price_string','price_detail__currency','price_detail__price_string'],\n",
    "       axis = 1,inplace = True )"
   ]
  },
  {
   "cell_type": "code",
   "execution_count": 10,
   "id": "20790b29",
   "metadata": {},
   "outputs": [
    {
     "data": {
      "text/html": [
       "<div>\n",
       "<style scoped>\n",
       "    .dataframe tbody tr th:only-of-type {\n",
       "        vertical-align: middle;\n",
       "    }\n",
       "\n",
       "    .dataframe tbody tr th {\n",
       "        vertical-align: top;\n",
       "    }\n",
       "\n",
       "    .dataframe thead th {\n",
       "        text-align: right;\n",
       "    }\n",
       "</style>\n",
       "<table border=\"1\" class=\"dataframe\">\n",
       "  <thead>\n",
       "    <tr style=\"text-align: right;\">\n",
       "      <th></th>\n",
       "      <th>id</th>\n",
       "      <th>title</th>\n",
       "      <th>is_paid</th>\n",
       "      <th>num_subscribers</th>\n",
       "      <th>avg_rating</th>\n",
       "      <th>avg_rating_recent</th>\n",
       "      <th>rating</th>\n",
       "      <th>num_reviews</th>\n",
       "      <th>is_wishlisted</th>\n",
       "      <th>num_published_lectures</th>\n",
       "      <th>num_published_practice_tests</th>\n",
       "      <th>created</th>\n",
       "      <th>published_time</th>\n",
       "      <th>discount_price__amount</th>\n",
       "      <th>price_detail__amount</th>\n",
       "    </tr>\n",
       "  </thead>\n",
       "  <tbody>\n",
       "    <tr>\n",
       "      <th>0</th>\n",
       "      <td>762616</td>\n",
       "      <td>The Complete SQL Bootcamp 2020: Go from Zero t...</td>\n",
       "      <td>True</td>\n",
       "      <td>295509</td>\n",
       "      <td>4.66019</td>\n",
       "      <td>4.67874</td>\n",
       "      <td>4.67874</td>\n",
       "      <td>78006</td>\n",
       "      <td>False</td>\n",
       "      <td>84</td>\n",
       "      <td>0</td>\n",
       "      <td>2016-02-14T22:57:48Z</td>\n",
       "      <td>2016-04-06T05:16:11Z</td>\n",
       "      <td>455.0</td>\n",
       "      <td>8640</td>\n",
       "    </tr>\n",
       "    <tr>\n",
       "      <th>1</th>\n",
       "      <td>937678</td>\n",
       "      <td>Tableau 2020 A-Z: Hands-On Tableau Training fo...</td>\n",
       "      <td>True</td>\n",
       "      <td>209070</td>\n",
       "      <td>4.58956</td>\n",
       "      <td>4.60015</td>\n",
       "      <td>4.60015</td>\n",
       "      <td>54581</td>\n",
       "      <td>False</td>\n",
       "      <td>78</td>\n",
       "      <td>0</td>\n",
       "      <td>2016-08-22T12:10:18Z</td>\n",
       "      <td>2016-08-23T16:59:49Z</td>\n",
       "      <td>455.0</td>\n",
       "      <td>8640</td>\n",
       "    </tr>\n",
       "    <tr>\n",
       "      <th>2</th>\n",
       "      <td>1361790</td>\n",
       "      <td>PMP Exam Prep Seminar -  PMBOK Guide 6</td>\n",
       "      <td>True</td>\n",
       "      <td>155282</td>\n",
       "      <td>4.59491</td>\n",
       "      <td>4.59326</td>\n",
       "      <td>4.59326</td>\n",
       "      <td>52653</td>\n",
       "      <td>False</td>\n",
       "      <td>292</td>\n",
       "      <td>2</td>\n",
       "      <td>2017-09-26T16:32:48Z</td>\n",
       "      <td>2017-11-14T23:58:14Z</td>\n",
       "      <td>455.0</td>\n",
       "      <td>8640</td>\n",
       "    </tr>\n",
       "    <tr>\n",
       "      <th>3</th>\n",
       "      <td>648826</td>\n",
       "      <td>The Complete Financial Analyst Course 2020</td>\n",
       "      <td>True</td>\n",
       "      <td>245860</td>\n",
       "      <td>4.54407</td>\n",
       "      <td>4.53772</td>\n",
       "      <td>4.53772</td>\n",
       "      <td>46447</td>\n",
       "      <td>False</td>\n",
       "      <td>338</td>\n",
       "      <td>0</td>\n",
       "      <td>2015-10-23T13:34:35Z</td>\n",
       "      <td>2016-01-21T01:38:48Z</td>\n",
       "      <td>455.0</td>\n",
       "      <td>8640</td>\n",
       "    </tr>\n",
       "    <tr>\n",
       "      <th>4</th>\n",
       "      <td>637930</td>\n",
       "      <td>An Entire MBA in 1 Course:Award Winning Busine...</td>\n",
       "      <td>True</td>\n",
       "      <td>374836</td>\n",
       "      <td>4.47080</td>\n",
       "      <td>4.47173</td>\n",
       "      <td>4.47173</td>\n",
       "      <td>41630</td>\n",
       "      <td>False</td>\n",
       "      <td>83</td>\n",
       "      <td>0</td>\n",
       "      <td>2015-10-12T06:39:46Z</td>\n",
       "      <td>2016-01-11T21:39:33Z</td>\n",
       "      <td>455.0</td>\n",
       "      <td>8640</td>\n",
       "    </tr>\n",
       "  </tbody>\n",
       "</table>\n",
       "</div>"
      ],
      "text/plain": [
       "        id                                              title  is_paid  \\\n",
       "0   762616  The Complete SQL Bootcamp 2020: Go from Zero t...     True   \n",
       "1   937678  Tableau 2020 A-Z: Hands-On Tableau Training fo...     True   \n",
       "2  1361790             PMP Exam Prep Seminar -  PMBOK Guide 6     True   \n",
       "3   648826         The Complete Financial Analyst Course 2020     True   \n",
       "4   637930  An Entire MBA in 1 Course:Award Winning Busine...     True   \n",
       "\n",
       "   num_subscribers  avg_rating  avg_rating_recent   rating  num_reviews  \\\n",
       "0           295509     4.66019            4.67874  4.67874        78006   \n",
       "1           209070     4.58956            4.60015  4.60015        54581   \n",
       "2           155282     4.59491            4.59326  4.59326        52653   \n",
       "3           245860     4.54407            4.53772  4.53772        46447   \n",
       "4           374836     4.47080            4.47173  4.47173        41630   \n",
       "\n",
       "   is_wishlisted  num_published_lectures  num_published_practice_tests  \\\n",
       "0          False                      84                             0   \n",
       "1          False                      78                             0   \n",
       "2          False                     292                             2   \n",
       "3          False                     338                             0   \n",
       "4          False                      83                             0   \n",
       "\n",
       "                created        published_time  discount_price__amount  \\\n",
       "0  2016-02-14T22:57:48Z  2016-04-06T05:16:11Z                   455.0   \n",
       "1  2016-08-22T12:10:18Z  2016-08-23T16:59:49Z                   455.0   \n",
       "2  2017-09-26T16:32:48Z  2017-11-14T23:58:14Z                   455.0   \n",
       "3  2015-10-23T13:34:35Z  2016-01-21T01:38:48Z                   455.0   \n",
       "4  2015-10-12T06:39:46Z  2016-01-11T21:39:33Z                   455.0   \n",
       "\n",
       "   price_detail__amount  \n",
       "0                  8640  \n",
       "1                  8640  \n",
       "2                  8640  \n",
       "3                  8640  \n",
       "4                  8640  "
      ]
     },
     "execution_count": 10,
     "metadata": {},
     "output_type": "execute_result"
    }
   ],
   "source": [
    "# to confirm the change\n",
    "df.head()"
   ]
  },
  {
   "cell_type": "code",
   "execution_count": 11,
   "id": "4d6025fd",
   "metadata": {},
   "outputs": [
    {
     "data": {
      "text/plain": [
       "(9447, 15)"
      ]
     },
     "execution_count": 11,
     "metadata": {},
     "output_type": "execute_result"
    }
   ],
   "source": [
    "df.shape"
   ]
  },
  {
   "cell_type": "markdown",
   "id": "147916ac",
   "metadata": {},
   "source": [
    "#  missing value treatment"
   ]
  },
  {
   "cell_type": "code",
   "execution_count": 12,
   "id": "d43fb441",
   "metadata": {},
   "outputs": [
    {
     "data": {
      "text/plain": [
       "id                                0\n",
       "title                             0\n",
       "is_paid                           0\n",
       "num_subscribers                   0\n",
       "avg_rating                        0\n",
       "avg_rating_recent                 0\n",
       "rating                            0\n",
       "num_reviews                       0\n",
       "is_wishlisted                     0\n",
       "num_published_lectures            0\n",
       "num_published_practice_tests      0\n",
       "created                           0\n",
       "published_time                    0\n",
       "discount_price__amount          510\n",
       "price_detail__amount              0\n",
       "dtype: int64"
      ]
     },
     "execution_count": 12,
     "metadata": {},
     "output_type": "execute_result"
    }
   ],
   "source": [
    "df.isnull().sum()"
   ]
  },
  {
   "cell_type": "code",
   "execution_count": 13,
   "id": "543838e7",
   "metadata": {},
   "outputs": [
    {
     "data": {
      "text/plain": [
       "455.0     8350\n",
       "468.0      122\n",
       "700.0       52\n",
       "462.0       41\n",
       "3200.0      36\n",
       "481.0       36\n",
       "520.0       33\n",
       "800.0       30\n",
       "474.0       27\n",
       "488.0       23\n",
       "494.0       17\n",
       "1600.0      17\n",
       "2400.0      11\n",
       "720.0       10\n",
       "2880.0       9\n",
       "1920.0       8\n",
       "2080.0       8\n",
       "640.0        8\n",
       "960.0        8\n",
       "480.0        7\n",
       "1520.0       7\n",
       "500.0        7\n",
       "1120.0       6\n",
       "514.0        6\n",
       "2720.0       5\n",
       "507.0        5\n",
       "1440.0       5\n",
       "1280.0       5\n",
       "1200.0       4\n",
       "1360.0       4\n",
       "2240.0       4\n",
       "2160.0       3\n",
       "1680.0       3\n",
       "2000.0       3\n",
       "546.0        2\n",
       "540.0        2\n",
       "2800.0       2\n",
       "3040.0       1\n",
       "1760.0       1\n",
       "2480.0       1\n",
       "533.0        1\n",
       "611.0        1\n",
       "552.0        1\n",
       "2320.0       1\n",
       "2560.0       1\n",
       "1840.0       1\n",
       "2960.0       1\n",
       "560.0        1\n",
       "Name: discount_price__amount, dtype: int64"
      ]
     },
     "execution_count": 13,
     "metadata": {},
     "output_type": "execute_result"
    }
   ],
   "source": [
    "df.discount_price__amount.value_counts()"
   ]
  },
  {
   "cell_type": "code",
   "execution_count": 14,
   "id": "559d4421",
   "metadata": {},
   "outputs": [
    {
     "data": {
      "text/plain": [
       "488.98411099921674"
      ]
     },
     "execution_count": 14,
     "metadata": {},
     "output_type": "execute_result"
    }
   ],
   "source": [
    "# Replace the missing value in the column \"discount_price__amount\"\n",
    "mean_value = df[\"discount_price__amount\"].mean()\n",
    "mean_value"
   ]
  },
  {
   "cell_type": "code",
   "execution_count": 15,
   "id": "1f0d86f0",
   "metadata": {},
   "outputs": [],
   "source": [
    "# using the mean value to replace the missing records\n",
    "df[\"discount_price__amount\"].fillna(mean_value,inplace = True)"
   ]
  },
  {
   "cell_type": "code",
   "execution_count": 16,
   "id": "cd1d8a4b",
   "metadata": {},
   "outputs": [
    {
     "data": {
      "text/plain": [
       "id                              0\n",
       "title                           0\n",
       "is_paid                         0\n",
       "num_subscribers                 0\n",
       "avg_rating                      0\n",
       "avg_rating_recent               0\n",
       "rating                          0\n",
       "num_reviews                     0\n",
       "is_wishlisted                   0\n",
       "num_published_lectures          0\n",
       "num_published_practice_tests    0\n",
       "created                         0\n",
       "published_time                  0\n",
       "discount_price__amount          0\n",
       "price_detail__amount            0\n",
       "dtype: int64"
      ]
     },
     "execution_count": 16,
     "metadata": {},
     "output_type": "execute_result"
    }
   ],
   "source": [
    "# to confirm the change\n",
    "df.isnull().sum()"
   ]
  },
  {
   "cell_type": "markdown",
   "id": "17846f5b",
   "metadata": {},
   "source": [
    "#  checking duplicates"
   ]
  },
  {
   "cell_type": "code",
   "execution_count": 17,
   "id": "dc050f41",
   "metadata": {},
   "outputs": [
    {
     "data": {
      "text/plain": [
       "0       False\n",
       "1       False\n",
       "2       False\n",
       "3       False\n",
       "4       False\n",
       "        ...  \n",
       "9442    False\n",
       "9443    False\n",
       "9444    False\n",
       "9445    False\n",
       "9446    False\n",
       "Length: 9447, dtype: bool"
      ]
     },
     "execution_count": 17,
     "metadata": {},
     "output_type": "execute_result"
    }
   ],
   "source": [
    "df.duplicated()"
   ]
  },
  {
   "cell_type": "code",
   "execution_count": 18,
   "id": "53eb846f",
   "metadata": {},
   "outputs": [
    {
     "data": {
      "text/plain": [
       "0"
      ]
     },
     "execution_count": 18,
     "metadata": {},
     "output_type": "execute_result"
    }
   ],
   "source": [
    "df.duplicated().sum()"
   ]
  },
  {
   "cell_type": "code",
   "execution_count": 19,
   "id": "4f3d97e0",
   "metadata": {},
   "outputs": [
    {
     "name": "stdout",
     "output_type": "stream",
     "text": [
      "<class 'pandas.core.frame.DataFrame'>\n",
      "RangeIndex: 9447 entries, 0 to 9446\n",
      "Data columns (total 15 columns):\n",
      " #   Column                        Non-Null Count  Dtype  \n",
      "---  ------                        --------------  -----  \n",
      " 0   id                            9447 non-null   int64  \n",
      " 1   title                         9447 non-null   object \n",
      " 2   is_paid                       9447 non-null   bool   \n",
      " 3   num_subscribers               9447 non-null   int64  \n",
      " 4   avg_rating                    9447 non-null   float64\n",
      " 5   avg_rating_recent             9447 non-null   float64\n",
      " 6   rating                        9447 non-null   float64\n",
      " 7   num_reviews                   9447 non-null   int64  \n",
      " 8   is_wishlisted                 9447 non-null   bool   \n",
      " 9   num_published_lectures        9447 non-null   int64  \n",
      " 10  num_published_practice_tests  9447 non-null   int64  \n",
      " 11  created                       9447 non-null   object \n",
      " 12  published_time                9447 non-null   object \n",
      " 13  discount_price__amount        9447 non-null   float64\n",
      " 14  price_detail__amount          9447 non-null   int64  \n",
      "dtypes: bool(2), float64(4), int64(6), object(3)\n",
      "memory usage: 978.0+ KB\n"
     ]
    }
   ],
   "source": [
    "# checking for information concerning the dataset\n",
    "df.info()"
   ]
  },
  {
   "cell_type": "code",
   "execution_count": null,
   "id": "7dcd9fe7",
   "metadata": {},
   "outputs": [],
   "source": []
  },
  {
   "cell_type": "markdown",
   "id": "a52745e5",
   "metadata": {},
   "source": [
    "#  determine outliers and remove it"
   ]
  },
  {
   "cell_type": "code",
   "execution_count": 20,
   "id": "99a2e151",
   "metadata": {},
   "outputs": [
    {
     "data": {
      "text/plain": [
       "<AxesSubplot:xlabel='avg_rating'>"
      ]
     },
     "execution_count": 20,
     "metadata": {},
     "output_type": "execute_result"
    },
    {
     "data": {
      "image/png": "[encoded data removed]",
      "text/plain": [
       "<Figure size 432x288 with 1 Axes>"
      ]
     },
     "metadata": {
      "needs_background": "light"
     },
     "output_type": "display_data"
    }
   ],
   "source": [
    "sns.boxplot(x=df['avg_rating'])"
   ]
  },
  {
   "cell_type": "code",
   "execution_count": 21,
   "id": "e4f2cb37",
   "metadata": {},
   "outputs": [
    {
     "data": {
      "text/plain": [
       "<AxesSubplot:xlabel='avg_rating_recent'>"
      ]
     },
     "execution_count": 21,
     "metadata": {},
     "output_type": "execute_result"
    },
    {
     "data": {
      "image/png": "[encoded data removed]",
      "text/plain": [
       "<Figure size 432x288 with 1 Axes>"
      ]
     },
     "metadata": {
      "needs_background": "light"
     },
     "output_type": "display_data"
    }
   ],
   "source": [
    "sns.boxplot(x=df['avg_rating_recent'])"
   ]
  },
  {
   "cell_type": "code",
   "execution_count": 22,
   "id": "cd718515",
   "metadata": {},
   "outputs": [
    {
     "data": {
      "text/plain": [
       "<AxesSubplot:xlabel='rating'>"
      ]
     },
     "execution_count": 22,
     "metadata": {},
     "output_type": "execute_result"
    },
    {
     "data": {
      "image/png": "[encoded data removed]",
      "text/plain": [
       "<Figure size 432x288 with 1 Axes>"
      ]
     },
     "metadata": {
      "needs_background": "light"
     },
     "output_type": "display_data"
    }
   ],
   "source": [
    "sns.boxplot(x=df['rating'])"
   ]
  },
  {
   "cell_type": "code",
   "execution_count": 23,
   "id": "b54d9173",
   "metadata": {},
   "outputs": [
    {
     "data": {
      "text/plain": [
       "<AxesSubplot:xlabel='discount_price__amount'>"
      ]
     },
     "execution_count": 23,
     "metadata": {},
     "output_type": "execute_result"
    },
    {
     "data": {
      "image/png": "[encoded data removed]",
      "text/plain": [
       "<Figure size 432x288 with 1 Axes>"
      ]
     },
     "metadata": {
      "needs_background": "light"
     },
     "output_type": "display_data"
    }
   ],
   "source": [
    "# to see the outliers clearly\n",
    "sns.boxplot(x=df['discount_price__amount'])"
   ]
  },
  {
   "cell_type": "code",
   "execution_count": 24,
   "id": "967ba6c2",
   "metadata": {},
   "outputs": [
    {
     "data": {
      "text/plain": [
       "(9447, 15)"
      ]
     },
     "execution_count": 24,
     "metadata": {},
     "output_type": "execute_result"
    }
   ],
   "source": [
    "df.shape"
   ]
  },
  {
   "cell_type": "code",
   "execution_count": null,
   "id": "2a571d69",
   "metadata": {},
   "outputs": [],
   "source": []
  },
  {
   "cell_type": "markdown",
   "id": "e9f6068e",
   "metadata": {},
   "source": [
    "#  Exploratory Data Analysis (EDA)"
   ]
  },
  {
   "cell_type": "code",
   "execution_count": 25,
   "id": "c620f05b",
   "metadata": {},
   "outputs": [
    {
     "data": {
      "text/plain": [
       "Text(0.5, 1.0, 'published lecture to prices')"
      ]
     },
     "execution_count": 25,
     "metadata": {},
     "output_type": "execute_result"
    },
    {
     "data": {
      "image/png": "[encoded data removed]",
      "text/plain": [
       "<Figure size 360x360 with 1 Axes>"
      ]
     },
     "metadata": {
      "needs_background": "light"
     },
     "output_type": "display_data"
    }
   ],
   "source": [
    "plt.figure(figsize=(5,5))\n",
    "sns.countplot(x=df['is_paid'])\n",
    "plt.title('published lecture to prices')"
   ]
  },
  {
   "cell_type": "markdown",
   "id": "38a481a7",
   "metadata": {},
   "source": [
    "All the courses are paid coursesin this dataset."
   ]
  },
  {
   "cell_type": "code",
   "execution_count": 26,
   "id": "4198621c",
   "metadata": {},
   "outputs": [
    {
     "data": {
      "text/plain": [
       "array([ True])"
      ]
     },
     "execution_count": 26,
     "metadata": {},
     "output_type": "execute_result"
    }
   ],
   "source": [
    "df['is_paid'].unique()"
   ]
  },
  {
   "cell_type": "code",
   "execution_count": 27,
   "id": "7861924b",
   "metadata": {},
   "outputs": [
    {
     "data": {
      "text/plain": [
       "array([False])"
      ]
     },
     "execution_count": 27,
     "metadata": {},
     "output_type": "execute_result"
    }
   ],
   "source": [
    "df['is_wishlisted'].unique()"
   ]
  },
  {
   "cell_type": "code",
   "execution_count": 28,
   "id": "f36411dd",
   "metadata": {},
   "outputs": [
    {
     "data": {
      "text/plain": [
       "Text(0.5, 1.0, 'published lecture to wishlisted')"
      ]
     },
     "execution_count": 28,
     "metadata": {},
     "output_type": "execute_result"
    },
    {
     "data": {
      "image/png": "[encoded data removed]",
      "text/plain": [
       "<Figure size 360x360 with 1 Axes>"
      ]
     },
     "metadata": {
      "needs_background": "light"
     },
     "output_type": "display_data"
    }
   ],
   "source": [
    "plt.figure(figsize=(5,5))\n",
    "sns.countplot(x=df['is_wishlisted'])\n",
    "plt.title('published lecture to wishlisted')"
   ]
  },
  {
   "cell_type": "markdown",
   "id": "d80fa06c",
   "metadata": {},
   "source": [
    "none of the courses are wishlisted according to above chart."
   ]
  },
  {
   "cell_type": "code",
   "execution_count": 29,
   "id": "1ebd013c",
   "metadata": {},
   "outputs": [
    {
     "data": {
      "text/plain": [
       "Text(0.5, 1.0, 'published lectures to prices')"
      ]
     },
     "execution_count": 29,
     "metadata": {},
     "output_type": "execute_result"
    },
    {
     "data": {
      "image/png": "[encoded data removed]",
      "text/plain": [
       "<Figure size 720x360 with 1 Axes>"
      ]
     },
     "metadata": {
      "needs_background": "light"
     },
     "output_type": "display_data"
    }
   ],
   "source": [
    "# y = a+bx\n",
    "plt.figure(figsize=(10,5))\n",
    "sns.regplot(y=df['num_published_lectures'],x=df['price_detail__amount'])\n",
    "plt.title('published lectures to prices')\n"
   ]
  },
  {
   "cell_type": "markdown",
   "id": "43e90c45",
   "metadata": {},
   "source": [
    "There is a little correlation between the num_published_lectures to prices, the more lectures are published, the higher the cost of the courses."
   ]
  },
  {
   "cell_type": "code",
   "execution_count": 30,
   "id": "ed686f79",
   "metadata": {},
   "outputs": [
    {
     "data": {
      "text/plain": [
       "Text(0.5, 1.0, 'published test to prices')"
      ]
     },
     "execution_count": 30,
     "metadata": {},
     "output_type": "execute_result"
    },
    {
     "data": {
      "image/png": "[encoded data removed]",
      "text/plain": [
       "<Figure size 720x360 with 1 Axes>"
      ]
     },
     "metadata": {
      "needs_background": "light"
     },
     "output_type": "display_data"
    }
   ],
   "source": [
    "plt.figure(figsize=(10,5))\n",
    "sns.scatterplot(y=df['num_published_practice_tests'],x=df['price_detail__amount'])\n",
    "plt.title('published test to prices')"
   ]
  },
  {
   "cell_type": "markdown",
   "id": "b3e2fc37",
   "metadata": {},
   "source": [
    "The number of practice test does not really affect the price of courses according to above chart"
   ]
  },
  {
   "cell_type": "code",
   "execution_count": 31,
   "id": "c6704089",
   "metadata": {},
   "outputs": [
    {
     "data": {
      "text/plain": [
       "Text(0.5, 1.0, 'Reviews to Rating')"
      ]
     },
     "execution_count": 31,
     "metadata": {},
     "output_type": "execute_result"
    },
    {
     "data": {
      "image/png": "[encoded data removed]",
      "text/plain": [
       "<Figure size 720x360 with 1 Axes>"
      ]
     },
     "metadata": {
      "needs_background": "light"
     },
     "output_type": "display_data"
    }
   ],
   "source": [
    "plt.figure(figsize=(10,5))\n",
    "sns.scatterplot(y=df['num_reviews'],x=df['rating'])\n",
    "plt.title('Reviews to Rating')"
   ]
  },
  {
   "cell_type": "markdown",
   "id": "4a0998ef",
   "metadata": {},
   "source": [
    "from the above chart it clearly shows that number of reviews affects the ratings but not very much.the higher the number of reviews the higher the number of ratings of the courses."
   ]
  },
  {
   "cell_type": "code",
   "execution_count": 32,
   "id": "14a917f3",
   "metadata": {},
   "outputs": [
    {
     "data": {
      "text/html": [
       "<div>\n",
       "<style scoped>\n",
       "    .dataframe tbody tr th:only-of-type {\n",
       "        vertical-align: middle;\n",
       "    }\n",
       "\n",
       "    .dataframe tbody tr th {\n",
       "        vertical-align: top;\n",
       "    }\n",
       "\n",
       "    .dataframe thead th {\n",
       "        text-align: right;\n",
       "    }\n",
       "</style>\n",
       "<table border=\"1\" class=\"dataframe\">\n",
       "  <thead>\n",
       "    <tr style=\"text-align: right;\">\n",
       "      <th></th>\n",
       "      <th>title</th>\n",
       "      <th>num_reviews</th>\n",
       "    </tr>\n",
       "  </thead>\n",
       "  <tbody>\n",
       "    <tr>\n",
       "      <th>0</th>\n",
       "      <td>The Complete SQL Bootcamp 2020: Go from Zero t...</td>\n",
       "      <td>78006</td>\n",
       "    </tr>\n",
       "    <tr>\n",
       "      <th>1</th>\n",
       "      <td>Tableau 2020 A-Z: Hands-On Tableau Training fo...</td>\n",
       "      <td>54581</td>\n",
       "    </tr>\n",
       "    <tr>\n",
       "      <th>2</th>\n",
       "      <td>PMP Exam Prep Seminar -  PMBOK Guide 6</td>\n",
       "      <td>52653</td>\n",
       "    </tr>\n",
       "    <tr>\n",
       "      <th>3</th>\n",
       "      <td>The Complete Financial Analyst Course 2020</td>\n",
       "      <td>46447</td>\n",
       "    </tr>\n",
       "    <tr>\n",
       "      <th>4</th>\n",
       "      <td>An Entire MBA in 1 Course:Award Winning Busine...</td>\n",
       "      <td>41630</td>\n",
       "    </tr>\n",
       "    <tr>\n",
       "      <th>5</th>\n",
       "      <td>Microsoft Power BI - A Complete Introduction [...</td>\n",
       "      <td>38093</td>\n",
       "    </tr>\n",
       "    <tr>\n",
       "      <th>6</th>\n",
       "      <td>Agile Crash Course: Agile Project Management; ...</td>\n",
       "      <td>30470</td>\n",
       "    </tr>\n",
       "    <tr>\n",
       "      <th>7</th>\n",
       "      <td>Beginner to Pro in Excel: Financial Modeling a...</td>\n",
       "      <td>28665</td>\n",
       "    </tr>\n",
       "    <tr>\n",
       "      <th>8</th>\n",
       "      <td>Become a Product Manager | Learn the Skills &amp; ...</td>\n",
       "      <td>27408</td>\n",
       "    </tr>\n",
       "    <tr>\n",
       "      <th>9</th>\n",
       "      <td>The Business Intelligence Analyst Course 2020</td>\n",
       "      <td>23906</td>\n",
       "    </tr>\n",
       "  </tbody>\n",
       "</table>\n",
       "</div>"
      ],
      "text/plain": [
       "                                               title  num_reviews\n",
       "0  The Complete SQL Bootcamp 2020: Go from Zero t...        78006\n",
       "1  Tableau 2020 A-Z: Hands-On Tableau Training fo...        54581\n",
       "2             PMP Exam Prep Seminar -  PMBOK Guide 6        52653\n",
       "3         The Complete Financial Analyst Course 2020        46447\n",
       "4  An Entire MBA in 1 Course:Award Winning Busine...        41630\n",
       "5  Microsoft Power BI - A Complete Introduction [...        38093\n",
       "6  Agile Crash Course: Agile Project Management; ...        30470\n",
       "7  Beginner to Pro in Excel: Financial Modeling a...        28665\n",
       "8  Become a Product Manager | Learn the Skills & ...        27408\n",
       "9      The Business Intelligence Analyst Course 2020        23906"
      ]
     },
     "execution_count": 32,
     "metadata": {},
     "output_type": "execute_result"
    }
   ],
   "source": [
    "top_reviewed = df[['title','num_reviews']].sort_values(by = 'num_reviews',ascending = False).head(10)\n",
    "top_reviewed"
   ]
  },
  {
   "cell_type": "markdown",
   "id": "b65cf418",
   "metadata": {},
   "source": [
    "these are the top 10 most reviewed courses in the dataset"
   ]
  },
  {
   "cell_type": "code",
   "execution_count": 33,
   "id": "17a85bba",
   "metadata": {},
   "outputs": [
    {
     "data": {
      "text/html": [
       "<div>\n",
       "<style scoped>\n",
       "    .dataframe tbody tr th:only-of-type {\n",
       "        vertical-align: middle;\n",
       "    }\n",
       "\n",
       "    .dataframe tbody tr th {\n",
       "        vertical-align: top;\n",
       "    }\n",
       "\n",
       "    .dataframe thead th {\n",
       "        text-align: right;\n",
       "    }\n",
       "</style>\n",
       "<table border=\"1\" class=\"dataframe\">\n",
       "  <thead>\n",
       "    <tr style=\"text-align: right;\">\n",
       "      <th></th>\n",
       "      <th>title</th>\n",
       "      <th>rating</th>\n",
       "    </tr>\n",
       "  </thead>\n",
       "  <tbody>\n",
       "    <tr>\n",
       "      <th>9446</th>\n",
       "      <td>How to enter the US market?</td>\n",
       "      <td>5.0</td>\n",
       "    </tr>\n",
       "    <tr>\n",
       "      <th>6821</th>\n",
       "      <td>Energizing Your Powerful Entrepreneurial Mindset</td>\n",
       "      <td>5.0</td>\n",
       "    </tr>\n",
       "    <tr>\n",
       "      <th>8924</th>\n",
       "      <td>The Science of Teams (TSoT) - Theory</td>\n",
       "      <td>5.0</td>\n",
       "    </tr>\n",
       "    <tr>\n",
       "      <th>8917</th>\n",
       "      <td>Create a Money Making Pitch for More Customers...</td>\n",
       "      <td>5.0</td>\n",
       "    </tr>\n",
       "    <tr>\n",
       "      <th>8890</th>\n",
       "      <td>Become a Student Investor</td>\n",
       "      <td>5.0</td>\n",
       "    </tr>\n",
       "    <tr>\n",
       "      <th>8881</th>\n",
       "      <td>Mastering Productivity For The Busy Professional</td>\n",
       "      <td>5.0</td>\n",
       "    </tr>\n",
       "    <tr>\n",
       "      <th>8878</th>\n",
       "      <td>3 Online Business / Side Hustle Ideas For Spor...</td>\n",
       "      <td>5.0</td>\n",
       "    </tr>\n",
       "    <tr>\n",
       "      <th>8872</th>\n",
       "      <td>Just Give me the Codes: Entry Level Python</td>\n",
       "      <td>5.0</td>\n",
       "    </tr>\n",
       "    <tr>\n",
       "      <th>8861</th>\n",
       "      <td>The Consulting Case Interview: Beginner to Expert</td>\n",
       "      <td>5.0</td>\n",
       "    </tr>\n",
       "    <tr>\n",
       "      <th>9140</th>\n",
       "      <td>Increase Your Profit by Understanding the Numbers</td>\n",
       "      <td>5.0</td>\n",
       "    </tr>\n",
       "  </tbody>\n",
       "</table>\n",
       "</div>"
      ],
      "text/plain": [
       "                                                  title  rating\n",
       "9446                        How to enter the US market?     5.0\n",
       "6821   Energizing Your Powerful Entrepreneurial Mindset     5.0\n",
       "8924               The Science of Teams (TSoT) - Theory     5.0\n",
       "8917  Create a Money Making Pitch for More Customers...     5.0\n",
       "8890                          Become a Student Investor     5.0\n",
       "8881  Mastering Productivity For The Busy Professional      5.0\n",
       "8878  3 Online Business / Side Hustle Ideas For Spor...     5.0\n",
       "8872         Just Give me the Codes: Entry Level Python     5.0\n",
       "8861  The Consulting Case Interview: Beginner to Expert     5.0\n",
       "9140  Increase Your Profit by Understanding the Numbers     5.0"
      ]
     },
     "execution_count": 33,
     "metadata": {},
     "output_type": "execute_result"
    }
   ],
   "source": [
    "top_rated = df[['title','rating']].sort_values(by = 'rating',ascending = False).head(10)\n",
    "top_rated"
   ]
  },
  {
   "cell_type": "markdown",
   "id": "a715f643",
   "metadata": {},
   "source": [
    "these are the top 10 most rated courses in the dataset"
   ]
  },
  {
   "cell_type": "code",
   "execution_count": 34,
   "id": "6bc55850",
   "metadata": {},
   "outputs": [
    {
     "data": {
      "text/html": [
       "<div>\n",
       "<style scoped>\n",
       "    .dataframe tbody tr th:only-of-type {\n",
       "        vertical-align: middle;\n",
       "    }\n",
       "\n",
       "    .dataframe tbody tr th {\n",
       "        vertical-align: top;\n",
       "    }\n",
       "\n",
       "    .dataframe thead th {\n",
       "        text-align: right;\n",
       "    }\n",
       "</style>\n",
       "<table border=\"1\" class=\"dataframe\">\n",
       "  <thead>\n",
       "    <tr style=\"text-align: right;\">\n",
       "      <th></th>\n",
       "      <th>title</th>\n",
       "      <th>is_paid</th>\n",
       "      <th>num_subscribers</th>\n",
       "    </tr>\n",
       "  </thead>\n",
       "  <tbody>\n",
       "    <tr>\n",
       "      <th>4</th>\n",
       "      <td>An Entire MBA in 1 Course:Award Winning Busine...</td>\n",
       "      <td>True</td>\n",
       "      <td>374836</td>\n",
       "    </tr>\n",
       "    <tr>\n",
       "      <th>0</th>\n",
       "      <td>The Complete SQL Bootcamp 2020: Go from Zero t...</td>\n",
       "      <td>True</td>\n",
       "      <td>295509</td>\n",
       "    </tr>\n",
       "    <tr>\n",
       "      <th>3</th>\n",
       "      <td>The Complete Financial Analyst Course 2020</td>\n",
       "      <td>True</td>\n",
       "      <td>245860</td>\n",
       "    </tr>\n",
       "    <tr>\n",
       "      <th>19</th>\n",
       "      <td>Deep Learning Prerequisites: The Numpy Stack i...</td>\n",
       "      <td>True</td>\n",
       "      <td>239309</td>\n",
       "    </tr>\n",
       "    <tr>\n",
       "      <th>1</th>\n",
       "      <td>Tableau 2020 A-Z: Hands-On Tableau Training fo...</td>\n",
       "      <td>True</td>\n",
       "      <td>209070</td>\n",
       "    </tr>\n",
       "    <tr>\n",
       "      <th>15</th>\n",
       "      <td>The Complete Financial Analyst Training &amp; Inve...</td>\n",
       "      <td>True</td>\n",
       "      <td>182002</td>\n",
       "    </tr>\n",
       "    <tr>\n",
       "      <th>35</th>\n",
       "      <td>The Complete Presentation and Public Speaking/...</td>\n",
       "      <td>True</td>\n",
       "      <td>158654</td>\n",
       "    </tr>\n",
       "    <tr>\n",
       "      <th>2</th>\n",
       "      <td>PMP Exam Prep Seminar -  PMBOK Guide 6</td>\n",
       "      <td>True</td>\n",
       "      <td>155282</td>\n",
       "    </tr>\n",
       "    <tr>\n",
       "      <th>22</th>\n",
       "      <td>Introduction to Finance, Accounting, Modeling ...</td>\n",
       "      <td>True</td>\n",
       "      <td>140676</td>\n",
       "    </tr>\n",
       "    <tr>\n",
       "      <th>7</th>\n",
       "      <td>Beginner to Pro in Excel: Financial Modeling a...</td>\n",
       "      <td>True</td>\n",
       "      <td>127680</td>\n",
       "    </tr>\n",
       "  </tbody>\n",
       "</table>\n",
       "</div>"
      ],
      "text/plain": [
       "                                                title  is_paid  \\\n",
       "4   An Entire MBA in 1 Course:Award Winning Busine...     True   \n",
       "0   The Complete SQL Bootcamp 2020: Go from Zero t...     True   \n",
       "3          The Complete Financial Analyst Course 2020     True   \n",
       "19  Deep Learning Prerequisites: The Numpy Stack i...     True   \n",
       "1   Tableau 2020 A-Z: Hands-On Tableau Training fo...     True   \n",
       "15  The Complete Financial Analyst Training & Inve...     True   \n",
       "35  The Complete Presentation and Public Speaking/...     True   \n",
       "2              PMP Exam Prep Seminar -  PMBOK Guide 6     True   \n",
       "22  Introduction to Finance, Accounting, Modeling ...     True   \n",
       "7   Beginner to Pro in Excel: Financial Modeling a...     True   \n",
       "\n",
       "    num_subscribers  \n",
       "4            374836  \n",
       "0            295509  \n",
       "3            245860  \n",
       "19           239309  \n",
       "1            209070  \n",
       "15           182002  \n",
       "35           158654  \n",
       "2            155282  \n",
       "22           140676  \n",
       "7            127680  "
      ]
     },
     "execution_count": 34,
     "metadata": {},
     "output_type": "execute_result"
    }
   ],
   "source": [
    "top_subscribed = df[['title','is_paid','num_subscribers']].sort_values(by = 'num_subscribers',ascending = False).head(10)\n",
    "top_subscribed"
   ]
  },
  {
   "cell_type": "markdown",
   "id": "f4df08a0",
   "metadata": {},
   "source": [
    "these are the top 10 most subscribed courses in the dataset"
   ]
  },
  {
   "cell_type": "code",
   "execution_count": 35,
   "id": "90599091",
   "metadata": {},
   "outputs": [
    {
     "data": {
      "text/html": [
       "<div>\n",
       "<style scoped>\n",
       "    .dataframe tbody tr th:only-of-type {\n",
       "        vertical-align: middle;\n",
       "    }\n",
       "\n",
       "    .dataframe tbody tr th {\n",
       "        vertical-align: top;\n",
       "    }\n",
       "\n",
       "    .dataframe thead th {\n",
       "        text-align: right;\n",
       "    }\n",
       "</style>\n",
       "<table border=\"1\" class=\"dataframe\">\n",
       "  <thead>\n",
       "    <tr style=\"text-align: right;\">\n",
       "      <th></th>\n",
       "      <th>title</th>\n",
       "      <th>is_paid</th>\n",
       "      <th>num_subscribers</th>\n",
       "    </tr>\n",
       "  </thead>\n",
       "  <tbody>\n",
       "    <tr>\n",
       "      <th>4</th>\n",
       "      <td>An Entire MBA in 1 Course:Award Winning Busine...</td>\n",
       "      <td>True</td>\n",
       "      <td>374836</td>\n",
       "    </tr>\n",
       "    <tr>\n",
       "      <th>0</th>\n",
       "      <td>The Complete SQL Bootcamp 2020: Go from Zero t...</td>\n",
       "      <td>True</td>\n",
       "      <td>295509</td>\n",
       "    </tr>\n",
       "    <tr>\n",
       "      <th>3</th>\n",
       "      <td>The Complete Financial Analyst Course 2020</td>\n",
       "      <td>True</td>\n",
       "      <td>245860</td>\n",
       "    </tr>\n",
       "    <tr>\n",
       "      <th>19</th>\n",
       "      <td>Deep Learning Prerequisites: The Numpy Stack i...</td>\n",
       "      <td>True</td>\n",
       "      <td>239309</td>\n",
       "    </tr>\n",
       "    <tr>\n",
       "      <th>1</th>\n",
       "      <td>Tableau 2020 A-Z: Hands-On Tableau Training fo...</td>\n",
       "      <td>True</td>\n",
       "      <td>209070</td>\n",
       "    </tr>\n",
       "    <tr>\n",
       "      <th>15</th>\n",
       "      <td>The Complete Financial Analyst Training &amp; Inve...</td>\n",
       "      <td>True</td>\n",
       "      <td>182002</td>\n",
       "    </tr>\n",
       "    <tr>\n",
       "      <th>35</th>\n",
       "      <td>The Complete Presentation and Public Speaking/...</td>\n",
       "      <td>True</td>\n",
       "      <td>158654</td>\n",
       "    </tr>\n",
       "    <tr>\n",
       "      <th>2</th>\n",
       "      <td>PMP Exam Prep Seminar -  PMBOK Guide 6</td>\n",
       "      <td>True</td>\n",
       "      <td>155282</td>\n",
       "    </tr>\n",
       "    <tr>\n",
       "      <th>22</th>\n",
       "      <td>Introduction to Finance, Accounting, Modeling ...</td>\n",
       "      <td>True</td>\n",
       "      <td>140676</td>\n",
       "    </tr>\n",
       "    <tr>\n",
       "      <th>7</th>\n",
       "      <td>Beginner to Pro in Excel: Financial Modeling a...</td>\n",
       "      <td>True</td>\n",
       "      <td>127680</td>\n",
       "    </tr>\n",
       "  </tbody>\n",
       "</table>\n",
       "</div>"
      ],
      "text/plain": [
       "                                                title  is_paid  \\\n",
       "4   An Entire MBA in 1 Course:Award Winning Busine...     True   \n",
       "0   The Complete SQL Bootcamp 2020: Go from Zero t...     True   \n",
       "3          The Complete Financial Analyst Course 2020     True   \n",
       "19  Deep Learning Prerequisites: The Numpy Stack i...     True   \n",
       "1   Tableau 2020 A-Z: Hands-On Tableau Training fo...     True   \n",
       "15  The Complete Financial Analyst Training & Inve...     True   \n",
       "35  The Complete Presentation and Public Speaking/...     True   \n",
       "2              PMP Exam Prep Seminar -  PMBOK Guide 6     True   \n",
       "22  Introduction to Finance, Accounting, Modeling ...     True   \n",
       "7   Beginner to Pro in Excel: Financial Modeling a...     True   \n",
       "\n",
       "    num_subscribers  \n",
       "4            374836  \n",
       "0            295509  \n",
       "3            245860  \n",
       "19           239309  \n",
       "1            209070  \n",
       "15           182002  \n",
       "35           158654  \n",
       "2            155282  \n",
       "22           140676  \n",
       "7            127680  "
      ]
     },
     "execution_count": 35,
     "metadata": {},
     "output_type": "execute_result"
    }
   ],
   "source": [
    "df[['title','is_paid','num_subscribers']].sort_values(by = 'num_subscribers',ascending = False).head(10)"
   ]
  },
  {
   "cell_type": "markdown",
   "id": "1b91e88c",
   "metadata": {},
   "source": [
    "courses with the highest number of practical tests"
   ]
  },
  {
   "cell_type": "code",
   "execution_count": null,
   "id": "ff5de370",
   "metadata": {},
   "outputs": [],
   "source": []
  },
  {
   "cell_type": "code",
   "execution_count": 36,
   "id": "dc9fc192",
   "metadata": {},
   "outputs": [
    {
     "data": {
      "text/plain": [
       "0       2016-02-14T22:57:48Z\n",
       "1       2016-08-22T12:10:18Z\n",
       "2       2017-09-26T16:32:48Z\n",
       "3       2015-10-23T13:34:35Z\n",
       "4       2015-10-12T06:39:46Z\n",
       "                ...         \n",
       "9442    2018-09-27T04:37:00Z\n",
       "9443    2018-11-29T13:39:30Z\n",
       "9444    2018-10-13T10:03:33Z\n",
       "9445    2020-01-20T18:10:33Z\n",
       "9446    2020-02-07T06:16:29Z\n",
       "Name: created, Length: 9447, dtype: object"
      ]
     },
     "execution_count": 36,
     "metadata": {},
     "output_type": "execute_result"
    }
   ],
   "source": [
    "df.created"
   ]
  },
  {
   "cell_type": "code",
   "execution_count": 37,
   "id": "2522823b",
   "metadata": {},
   "outputs": [
    {
     "data": {
      "text/plain": [
       "pandas.core.series.Series"
      ]
     },
     "execution_count": 37,
     "metadata": {},
     "output_type": "execute_result"
    }
   ],
   "source": [
    "type(df['created'])"
   ]
  },
  {
   "cell_type": "code",
   "execution_count": 38,
   "id": "abfb8228",
   "metadata": {},
   "outputs": [],
   "source": [
    "# converting columns into datetime\n",
    "\n",
    "df['created'] = pd.to_datetime(df['created'])\n",
    "df['date_created'] = df['created'].dt.date"
   ]
  },
  {
   "cell_type": "code",
   "execution_count": 39,
   "id": "44a7b7a1",
   "metadata": {},
   "outputs": [
    {
     "data": {
      "text/plain": [
       "0       2016-02-14\n",
       "1       2016-08-22\n",
       "2       2017-09-26\n",
       "3       2015-10-23\n",
       "4       2015-10-12\n",
       "           ...    \n",
       "9442    2018-09-27\n",
       "9443    2018-11-29\n",
       "9444    2018-10-13\n",
       "9445    2020-01-20\n",
       "9446    2020-02-07\n",
       "Name: date_created, Length: 9447, dtype: object"
      ]
     },
     "execution_count": 39,
     "metadata": {},
     "output_type": "execute_result"
    }
   ],
   "source": [
    "df.date_created"
   ]
  },
  {
   "cell_type": "code",
   "execution_count": 40,
   "id": "677ef1b9",
   "metadata": {},
   "outputs": [],
   "source": [
    "df['year'] = pd.DatetimeIndex(df.date_created).year\n",
    "df['month'] = pd.DatetimeIndex(df.date_created).month\n",
    "df['day'] = pd.DatetimeIndex(df.date_created).day"
   ]
  },
  {
   "cell_type": "code",
   "execution_count": 41,
   "id": "153abaa2",
   "metadata": {},
   "outputs": [
    {
     "data": {
      "text/plain": [
       "Text(0.5, 1.0, 'courses per year')"
      ]
     },
     "execution_count": 41,
     "metadata": {},
     "output_type": "execute_result"
    },
    {
     "data": {
      "image/png": "[encoded data removed]",
      "text/plain": [
       "<Figure size 720x360 with 1 Axes>"
      ]
     },
     "metadata": {
      "needs_background": "light"
     },
     "output_type": "display_data"
    }
   ],
   "source": [
    "plt.figure(figsize=(10,5))\n",
    "plt.xticks(fontsize=10, rotation = 'vertical')\n",
    "sns.countplot(x=df['year'], order = df.year.value_counts().\n",
    "               sort_values(ascending=False).index)\n",
    "plt.title('courses per year')"
   ]
  },
  {
   "cell_type": "markdown",
   "id": "e6df2ac0",
   "metadata": {},
   "source": [
    "most of the courses in this dataset was created in 2018"
   ]
  },
  {
   "cell_type": "code",
   "execution_count": 42,
   "id": "f987141e",
   "metadata": {},
   "outputs": [
    {
     "data": {
      "text/plain": [
       "Text(0.5, 1.0, 'courses per month')"
      ]
     },
     "execution_count": 42,
     "metadata": {},
     "output_type": "execute_result"
    },
    {
     "data": {
      "image/png": "[encoded data removed]",
      "text/plain": [
       "<Figure size 720x360 with 1 Axes>"
      ]
     },
     "metadata": {
      "needs_background": "light"
     },
     "output_type": "display_data"
    }
   ],
   "source": [
    "plt.figure(figsize=(10,5))\n",
    "plt.xticks(fontsize=10, rotation = 'vertical')\n",
    "sns.countplot(x=df['month'], order = df.month.value_counts().\n",
    "               sort_values(ascending=False).index)\n",
    "plt.title('courses per month')"
   ]
  },
  {
   "cell_type": "markdown",
   "id": "84739664",
   "metadata": {},
   "source": [
    "almost same amount of courses are created in all the months according to the above graph"
   ]
  },
  {
   "cell_type": "code",
   "execution_count": 43,
   "id": "4df813f0",
   "metadata": {},
   "outputs": [
    {
     "data": {
      "image/png": "[encoded data removed]",
      "text/plain": [
       "<Figure size 1440x360 with 1 Axes>"
      ]
     },
     "metadata": {
      "needs_background": "light"
     },
     "output_type": "display_data"
    }
   ],
   "source": [
    "plt.figure(figsize = (20,5))\n",
    "\n",
    "sns.barplot(x='year',y='rating',data=df);\n",
    "\n",
    "plt.show()"
   ]
  },
  {
   "cell_type": "markdown",
   "id": "143eb0e5",
   "metadata": {},
   "source": [
    "highest number of ratings gain by courses created in year 2010, 2011 and 2020 "
   ]
  },
  {
   "cell_type": "code",
   "execution_count": 44,
   "id": "ae12cb1a",
   "metadata": {},
   "outputs": [
    {
     "data": {
      "image/png": "[encoded data removed]",
      "text/plain": [
       "<Figure size 1440x360 with 1 Axes>"
      ]
     },
     "metadata": {
      "needs_background": "light"
     },
     "output_type": "display_data"
    }
   ],
   "source": [
    "plt.figure(figsize = (20,5))\n",
    "\n",
    "sns.barplot(x='year',y='num_subscribers',data=df);\n",
    "\n",
    "plt.show()"
   ]
  },
  {
   "cell_type": "markdown",
   "id": "384b1f15",
   "metadata": {},
   "source": [
    "this graph shows that as the year progressed,so did the numbers of subscribers will also increased till 2016 but after year 2016 numbers of subscribers may slightly decreased."
   ]
  },
  {
   "cell_type": "code",
   "execution_count": 45,
   "id": "9f9b6e52",
   "metadata": {},
   "outputs": [
    {
     "data": {
      "image/png": "[encoded data removed]",
      "text/plain": [
       "<Figure size 1440x360 with 1 Axes>"
      ]
     },
     "metadata": {
      "needs_background": "light"
     },
     "output_type": "display_data"
    }
   ],
   "source": [
    "plt.figure(figsize = (20,5))\n",
    "\n",
    "sns.barplot(x='year',y='num_reviews',data=df);\n",
    "\n",
    "plt.show()"
   ]
  },
  {
   "cell_type": "markdown",
   "id": "f002322c",
   "metadata": {},
   "source": [
    "now this is the intersting fact that in initial year of business the number of reviews were high.and as the years progressed,number of reviews are slightly less."
   ]
  },
  {
   "cell_type": "code",
   "execution_count": 46,
   "id": "40aa59b4",
   "metadata": {},
   "outputs": [
    {
     "data": {
      "image/png": "[encoded data removed]",
      "text/plain": [
       "<Figure size 1440x360 with 1 Axes>"
      ]
     },
     "metadata": {
      "needs_background": "light"
     },
     "output_type": "display_data"
    }
   ],
   "source": [
    "plt.figure(figsize = (20,5))\n",
    "\n",
    "sns.barplot(x='year',y='avg_rating',data=df);\n",
    "\n",
    "plt.show()"
   ]
  },
  {
   "cell_type": "markdown",
   "id": "52dfb05b",
   "metadata": {},
   "source": [
    "there is very little difference in average rating of the courses created in every year."
   ]
  },
  {
   "cell_type": "code",
   "execution_count": 47,
   "id": "c896a789",
   "metadata": {},
   "outputs": [
    {
     "data": {
      "image/png": "[encoded data removed]",
      "text/plain": [
       "<Figure size 1440x360 with 1 Axes>"
      ]
     },
     "metadata": {
      "needs_background": "light"
     },
     "output_type": "display_data"
    }
   ],
   "source": [
    "plt.figure(figsize = (20,5))\n",
    "\n",
    "sns.barplot(x='year',y='price_detail__amount',data=df);\n",
    "\n",
    "plt.show()"
   ]
  },
  {
   "cell_type": "markdown",
   "id": "09172735",
   "metadata": {},
   "source": [
    "according to the above graph it shows that in the year 2017,2018 and in 2019 price of the courses are highest."
   ]
  },
  {
   "cell_type": "code",
   "execution_count": 49,
   "id": "f19d8dc3",
   "metadata": {},
   "outputs": [
    {
     "name": "stdout",
     "output_type": "stream",
     "text": [
      "<class 'pandas.core.frame.DataFrame'>\n",
      "RangeIndex: 9447 entries, 0 to 9446\n",
      "Data columns (total 19 columns):\n",
      " #   Column                        Non-Null Count  Dtype              \n",
      "---  ------                        --------------  -----              \n",
      " 0   id                            9447 non-null   int64              \n",
      " 1   title                         9447 non-null   object             \n",
      " 2   is_paid                       9447 non-null   bool               \n",
      " 3   num_subscribers               9447 non-null   int64              \n",
      " 4   avg_rating                    9447 non-null   float64            \n",
      " 5   avg_rating_recent             9447 non-null   float64            \n",
      " 6   rating                        9447 non-null   float64            \n",
      " 7   num_reviews                   9447 non-null   int64              \n",
      " 8   is_wishlisted                 9447 non-null   bool               \n",
      " 9   num_published_lectures        9447 non-null   int64              \n",
      " 10  num_published_practice_tests  9447 non-null   int64              \n",
      " 11  created                       9447 non-null   datetime64[ns, UTC]\n",
      " 12  published_time                9447 non-null   object             \n",
      " 13  discount_price__amount        9447 non-null   float64            \n",
      " 14  price_detail__amount          9447 non-null   int64              \n",
      " 15  date_created                  9447 non-null   object             \n",
      " 16  year                          9447 non-null   int64              \n",
      " 17  month                         9447 non-null   int64              \n",
      " 18  day                           9447 non-null   int64              \n",
      "dtypes: bool(2), datetime64[ns, UTC](1), float64(4), int64(9), object(3)\n",
      "memory usage: 1.2+ MB\n"
     ]
    }
   ],
   "source": [
    "df.info()"
   ]
  },
  {
   "cell_type": "code",
   "execution_count": 50,
   "id": "715f366a",
   "metadata": {},
   "outputs": [
    {
     "data": {
      "text/plain": [
       "id                                            int64\n",
       "title                                        object\n",
       "is_paid                                        bool\n",
       "num_subscribers                               int64\n",
       "avg_rating                                  float64\n",
       "avg_rating_recent                           float64\n",
       "rating                                      float64\n",
       "num_reviews                                   int64\n",
       "is_wishlisted                                  bool\n",
       "num_published_lectures                        int64\n",
       "num_published_practice_tests                  int64\n",
       "created                         datetime64[ns, UTC]\n",
       "published_time                               object\n",
       "discount_price__amount                      float64\n",
       "price_detail__amount                          int64\n",
       "date_created                                 object\n",
       "year                                          int64\n",
       "month                                         int64\n",
       "day                                           int64\n",
       "dtype: object"
      ]
     },
     "execution_count": 50,
     "metadata": {},
     "output_type": "execute_result"
    }
   ],
   "source": [
    "df.dtypes"
   ]
  },
  {
   "cell_type": "code",
   "execution_count": 57,
   "id": "4c5be714",
   "metadata": {},
   "outputs": [],
   "source": [
    "df.drop(['created','published_time'],axis = 1,inplace = True )"
   ]
  },
  {
   "cell_type": "code",
   "execution_count": 58,
   "id": "f793d687",
   "metadata": {},
   "outputs": [
    {
     "data": {
      "text/plain": [
       "id                                int64\n",
       "title                            object\n",
       "is_paid                            bool\n",
       "num_subscribers                   int64\n",
       "avg_rating                      float64\n",
       "avg_rating_recent               float64\n",
       "rating                          float64\n",
       "num_reviews                       int64\n",
       "is_wishlisted                      bool\n",
       "num_published_lectures            int64\n",
       "num_published_practice_tests      int64\n",
       "discount_price__amount          float64\n",
       "price_detail__amount              int64\n",
       "date_created                     object\n",
       "year                              int64\n",
       "month                             int64\n",
       "day                               int64\n",
       "dtype: object"
      ]
     },
     "execution_count": 58,
     "metadata": {},
     "output_type": "execute_result"
    }
   ],
   "source": [
    "df.dtypes"
   ]
  },
  {
   "cell_type": "code",
   "execution_count": 59,
   "id": "1f884ee7",
   "metadata": {},
   "outputs": [],
   "source": [
    "df.to_excel(r'C:\\Users\\hp\\OneDrive\\Desktop\\online_All_Business_p1_p626_new.xlsx',index= False)"
   ]
  },
  {
   "cell_type": "code",
   "execution_count": null,
   "id": "40fad477",
   "metadata": {},
   "outputs": [],
   "source": []
  }
 ],
 "metadata": {
  "kernelspec": {
   "display_name": "Python 3 (ipykernel)",
   "language": "python",
   "name": "python3"
  },
  "language_info": {
   "codemirror_mode": {
    "name": "ipython",
    "version": 3
   },
   "file_extension": ".py",
   "mimetype": "text/x-python",
   "name": "python",
   "nbconvert_exporter": "python",
   "pygments_lexer": "ipython3",
   "version": "3.9.12"
  }
 },
 "nbformat": 4,
 "nbformat_minor": 5
}
